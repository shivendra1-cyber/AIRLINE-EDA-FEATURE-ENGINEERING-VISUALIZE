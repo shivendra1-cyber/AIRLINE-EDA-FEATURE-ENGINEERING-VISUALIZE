{
 "cells": [
  {
   "cell_type": "markdown",
   "id": "0bfa63c0",
   "metadata": {
    "_cell_guid": "b1076dfc-b9ad-4769-8c92-a6c4dae69d19",
    "_uuid": "8f2839f25d086af736a60e9eeb907d3b93b6e0e5",
    "papermill": {
     "duration": 0.009338,
     "end_time": "2023-10-27T07:07:05.698329",
     "exception": false,
     "start_time": "2023-10-27T07:07:05.688991",
     "status": "completed"
    },
    "tags": []
   },
   "source": [
    "<h3 align=\"center\" style=\"font-size: 35px; color: #800080; font-family: Georgia;\">\n",
    "    <span style=\"color: #008080;\"> Author:</span> \n",
    "    <span style=\"color: black;\">SHIVENDRA PARMAR </span>\n",
    "</h3>"
   ]
  },
  {
   "cell_type": "markdown",
   "id": "9a6dc5ef",
   "metadata": {
    "papermill": {
     "duration": 0.009048,
     "end_time": "2023-10-27T07:07:05.717346",
     "exception": false,
     "start_time": "2023-10-27T07:07:05.708298",
     "status": "completed"
    },
    "tags": []
   },
   "source": [
    "<div style=\"border-radius:10px;border:black solid;padding: 15px;background-color:white;font-size:110%;text-align:left\">\n",
    "<div style=\"font-family:Georgia;background-color:'#DEB887'; padding:30px; font-size:17px\">\n",
    "\n",
    "   \n",
    "CONTENT:<br><br>\n",
    "1. [Libraries](#1)\n",
    "2. [Data Load and General Overview](#2)\n",
    "3. [FEATURE ENGINEERING](#3)\n",
    "4. [EDA](#4)\n",
    "</div>\n",
    "</div>"
   ]
  },
  {
   "cell_type": "markdown",
   "id": "7bc74334",
   "metadata": {
    "papermill": {
     "duration": 0.008517,
     "end_time": "2023-10-27T07:07:05.734709",
     "exception": false,
     "start_time": "2023-10-27T07:07:05.726192",
     "status": "completed"
    },
    "tags": []
   },
   "source": [
    "<a id = \"1\"></a>\n",
    "# Libraries"
   ]
  },
  {
   "cell_type": "code",
   "execution_count": 1,
   "id": "e15b1970",
   "metadata": {
    "execution": {
     "iopub.execute_input": "2023-10-27T07:07:05.755197Z",
     "iopub.status.busy": "2023-10-27T07:07:05.754469Z",
     "iopub.status.idle": "2023-10-27T07:07:06.184745Z",
     "shell.execute_reply": "2023-10-27T07:07:06.183152Z"
    },
    "papermill": {
     "duration": 0.443499,
     "end_time": "2023-10-27T07:07:06.187089",
     "exception": false,
     "start_time": "2023-10-27T07:07:05.743590",
     "status": "completed"
    },
    "tags": []
   },
   "outputs": [
    {
     "name": "stdout",
     "output_type": "stream",
     "text": [
      "/kaggle/input/airline-dataset/Airline Dataset Updated.csv\n",
      "/kaggle/input/airline-dataset/Airline Dataset Updated - v2.csv\n",
      "/kaggle/input/airline-dataset/Airline Dataset.csv\n"
     ]
    }
   ],
   "source": [
    "import numpy as np \n",
    "import pandas as pd\n",
    "import matplotlib.pyplot as plt\n",
    "import os\n",
    "for dirname, _, filenames in os.walk('/kaggle/input'):\n",
    "    for filename in filenames:\n",
    "        print(os.path.join(dirname, filename))"
   ]
  },
  {
   "cell_type": "markdown",
   "id": "0c79744f",
   "metadata": {
    "papermill": {
     "duration": 0.008427,
     "end_time": "2023-10-27T07:07:06.204430",
     "exception": false,
     "start_time": "2023-10-27T07:07:06.196003",
     "status": "completed"
    },
    "tags": []
   },
   "source": [
    "<a id = \"2\"></a>\n",
    "# Data Load and General Overview"
   ]
  },
  {
   "cell_type": "code",
   "execution_count": 2,
   "id": "5bcd8023",
   "metadata": {
    "execution": {
     "iopub.execute_input": "2023-10-27T07:07:06.224519Z",
     "iopub.status.busy": "2023-10-27T07:07:06.223468Z",
     "iopub.status.idle": "2023-10-27T07:07:06.965915Z",
     "shell.execute_reply": "2023-10-27T07:07:06.964762Z"
    },
    "papermill": {
     "duration": 0.755408,
     "end_time": "2023-10-27T07:07:06.968727",
     "exception": false,
     "start_time": "2023-10-27T07:07:06.213319",
     "status": "completed"
    },
    "tags": []
   },
   "outputs": [],
   "source": [
    "airline_dataset = pd.read_csv(\"/kaggle/input/airline-dataset/Airline Dataset Updated - v2.csv\")\n",
    "# Copy df Protect for orginal dataset\n",
    "df = airline_dataset.copy()"
   ]
  },
  {
   "cell_type": "code",
   "execution_count": 3,
   "id": "44ea0fea",
   "metadata": {
    "execution": {
     "iopub.execute_input": "2023-10-27T07:07:06.989768Z",
     "iopub.status.busy": "2023-10-27T07:07:06.989391Z",
     "iopub.status.idle": "2023-10-27T07:07:07.030674Z",
     "shell.execute_reply": "2023-10-27T07:07:07.029463Z"
    },
    "papermill": {
     "duration": 0.055069,
     "end_time": "2023-10-27T07:07:07.033242",
     "exception": false,
     "start_time": "2023-10-27T07:07:06.978173",
     "status": "completed"
    },
    "tags": []
   },
   "outputs": [
    {
     "data": {
      "text/html": [
       "<div>\n",
       "<style scoped>\n",
       "    .dataframe tbody tr th:only-of-type {\n",
       "        vertical-align: middle;\n",
       "    }\n",
       "\n",
       "    .dataframe tbody tr th {\n",
       "        vertical-align: top;\n",
       "    }\n",
       "\n",
       "    .dataframe thead th {\n",
       "        text-align: right;\n",
       "    }\n",
       "</style>\n",
       "<table border=\"1\" class=\"dataframe\">\n",
       "  <thead>\n",
       "    <tr style=\"text-align: right;\">\n",
       "      <th></th>\n",
       "      <th>Passenger ID</th>\n",
       "      <th>First Name</th>\n",
       "      <th>Last Name</th>\n",
       "      <th>Gender</th>\n",
       "      <th>Age</th>\n",
       "      <th>Nationality</th>\n",
       "      <th>Airport Name</th>\n",
       "      <th>Airport Country Code</th>\n",
       "      <th>Country Name</th>\n",
       "      <th>Airport Continent</th>\n",
       "      <th>Continents</th>\n",
       "      <th>Departure Date</th>\n",
       "      <th>Arrival Airport</th>\n",
       "      <th>Pilot Name</th>\n",
       "      <th>Flight Status</th>\n",
       "    </tr>\n",
       "  </thead>\n",
       "  <tbody>\n",
       "    <tr>\n",
       "      <th>0</th>\n",
       "      <td>ABVWIg</td>\n",
       "      <td>Edithe</td>\n",
       "      <td>Leggis</td>\n",
       "      <td>Female</td>\n",
       "      <td>62</td>\n",
       "      <td>Japan</td>\n",
       "      <td>Coldfoot Airport</td>\n",
       "      <td>US</td>\n",
       "      <td>United States</td>\n",
       "      <td>NAM</td>\n",
       "      <td>North America</td>\n",
       "      <td>6/28/2022</td>\n",
       "      <td>CXF</td>\n",
       "      <td>Fransisco Hazeldine</td>\n",
       "      <td>On Time</td>\n",
       "    </tr>\n",
       "    <tr>\n",
       "      <th>1</th>\n",
       "      <td>jkXXAX</td>\n",
       "      <td>Elwood</td>\n",
       "      <td>Catt</td>\n",
       "      <td>Male</td>\n",
       "      <td>62</td>\n",
       "      <td>Nicaragua</td>\n",
       "      <td>Kugluktuk Airport</td>\n",
       "      <td>CA</td>\n",
       "      <td>Canada</td>\n",
       "      <td>NAM</td>\n",
       "      <td>North America</td>\n",
       "      <td>12/26/2022</td>\n",
       "      <td>YCO</td>\n",
       "      <td>Marla Parsonage</td>\n",
       "      <td>On Time</td>\n",
       "    </tr>\n",
       "    <tr>\n",
       "      <th>2</th>\n",
       "      <td>CdUz2g</td>\n",
       "      <td>Darby</td>\n",
       "      <td>Felgate</td>\n",
       "      <td>Male</td>\n",
       "      <td>67</td>\n",
       "      <td>Russia</td>\n",
       "      <td>Grenoble-Isère Airport</td>\n",
       "      <td>FR</td>\n",
       "      <td>France</td>\n",
       "      <td>EU</td>\n",
       "      <td>Europe</td>\n",
       "      <td>1/18/2022</td>\n",
       "      <td>GNB</td>\n",
       "      <td>Rhonda Amber</td>\n",
       "      <td>On Time</td>\n",
       "    </tr>\n",
       "    <tr>\n",
       "      <th>3</th>\n",
       "      <td>BRS38V</td>\n",
       "      <td>Dominica</td>\n",
       "      <td>Pyle</td>\n",
       "      <td>Female</td>\n",
       "      <td>71</td>\n",
       "      <td>China</td>\n",
       "      <td>Ottawa / Gatineau Airport</td>\n",
       "      <td>CA</td>\n",
       "      <td>Canada</td>\n",
       "      <td>NAM</td>\n",
       "      <td>North America</td>\n",
       "      <td>9/16/2022</td>\n",
       "      <td>YND</td>\n",
       "      <td>Kacie Commucci</td>\n",
       "      <td>Delayed</td>\n",
       "    </tr>\n",
       "    <tr>\n",
       "      <th>4</th>\n",
       "      <td>9kvTLo</td>\n",
       "      <td>Bay</td>\n",
       "      <td>Pencost</td>\n",
       "      <td>Male</td>\n",
       "      <td>21</td>\n",
       "      <td>China</td>\n",
       "      <td>Gillespie Field</td>\n",
       "      <td>US</td>\n",
       "      <td>United States</td>\n",
       "      <td>NAM</td>\n",
       "      <td>North America</td>\n",
       "      <td>2/25/2022</td>\n",
       "      <td>SEE</td>\n",
       "      <td>Ebonee Tree</td>\n",
       "      <td>On Time</td>\n",
       "    </tr>\n",
       "    <tr>\n",
       "      <th>...</th>\n",
       "      <td>...</td>\n",
       "      <td>...</td>\n",
       "      <td>...</td>\n",
       "      <td>...</td>\n",
       "      <td>...</td>\n",
       "      <td>...</td>\n",
       "      <td>...</td>\n",
       "      <td>...</td>\n",
       "      <td>...</td>\n",
       "      <td>...</td>\n",
       "      <td>...</td>\n",
       "      <td>...</td>\n",
       "      <td>...</td>\n",
       "      <td>...</td>\n",
       "      <td>...</td>\n",
       "    </tr>\n",
       "    <tr>\n",
       "      <th>98614</th>\n",
       "      <td>hnGQ62</td>\n",
       "      <td>Gareth</td>\n",
       "      <td>Mugford</td>\n",
       "      <td>Male</td>\n",
       "      <td>85</td>\n",
       "      <td>China</td>\n",
       "      <td>Hasvik Airport</td>\n",
       "      <td>NO</td>\n",
       "      <td>Norway</td>\n",
       "      <td>EU</td>\n",
       "      <td>Europe</td>\n",
       "      <td>12-11-2022</td>\n",
       "      <td>HAA</td>\n",
       "      <td>Pammie Kingscote</td>\n",
       "      <td>Cancelled</td>\n",
       "    </tr>\n",
       "    <tr>\n",
       "      <th>98615</th>\n",
       "      <td>2omEzh</td>\n",
       "      <td>Kasey</td>\n",
       "      <td>Benedict</td>\n",
       "      <td>Female</td>\n",
       "      <td>19</td>\n",
       "      <td>Russia</td>\n",
       "      <td>Ampampamena Airport</td>\n",
       "      <td>MG</td>\n",
       "      <td>Madagascar</td>\n",
       "      <td>AF</td>\n",
       "      <td>Africa</td>\n",
       "      <td>10/30/2022</td>\n",
       "      <td>IVA</td>\n",
       "      <td>Dorice Lochran</td>\n",
       "      <td>Cancelled</td>\n",
       "    </tr>\n",
       "    <tr>\n",
       "      <th>98616</th>\n",
       "      <td>VUPiVG</td>\n",
       "      <td>Darrin</td>\n",
       "      <td>Lucken</td>\n",
       "      <td>Male</td>\n",
       "      <td>65</td>\n",
       "      <td>Indonesia</td>\n",
       "      <td>Albacete-Los Llanos Airport</td>\n",
       "      <td>ES</td>\n",
       "      <td>Spain</td>\n",
       "      <td>EU</td>\n",
       "      <td>Europe</td>\n",
       "      <td>09-10-2022</td>\n",
       "      <td>ABC</td>\n",
       "      <td>Gearalt Main</td>\n",
       "      <td>On Time</td>\n",
       "    </tr>\n",
       "    <tr>\n",
       "      <th>98617</th>\n",
       "      <td>E47NtS</td>\n",
       "      <td>Gayle</td>\n",
       "      <td>Lievesley</td>\n",
       "      <td>Female</td>\n",
       "      <td>34</td>\n",
       "      <td>China</td>\n",
       "      <td>Gagnoa Airport</td>\n",
       "      <td>CI</td>\n",
       "      <td>Côte d'Ivoire</td>\n",
       "      <td>AF</td>\n",
       "      <td>Africa</td>\n",
       "      <td>10/26/2022</td>\n",
       "      <td>GGN</td>\n",
       "      <td>Judon Chasle</td>\n",
       "      <td>Cancelled</td>\n",
       "    </tr>\n",
       "    <tr>\n",
       "      <th>98618</th>\n",
       "      <td>8JYEcz</td>\n",
       "      <td>Wilhelmine</td>\n",
       "      <td>Touret</td>\n",
       "      <td>Female</td>\n",
       "      <td>10</td>\n",
       "      <td>Poland</td>\n",
       "      <td>Yoshkar-Ola Airport</td>\n",
       "      <td>RU</td>\n",
       "      <td>Russian Federation</td>\n",
       "      <td>EU</td>\n",
       "      <td>Europe</td>\n",
       "      <td>4/16/2022</td>\n",
       "      <td>JOK</td>\n",
       "      <td>Auguste Tindley</td>\n",
       "      <td>Delayed</td>\n",
       "    </tr>\n",
       "  </tbody>\n",
       "</table>\n",
       "<p>98619 rows × 15 columns</p>\n",
       "</div>"
      ],
      "text/plain": [
       "      Passenger ID  First Name  Last Name  Gender  Age Nationality  \\\n",
       "0           ABVWIg      Edithe     Leggis  Female   62       Japan   \n",
       "1           jkXXAX      Elwood       Catt    Male   62   Nicaragua   \n",
       "2           CdUz2g       Darby    Felgate    Male   67      Russia   \n",
       "3           BRS38V    Dominica       Pyle  Female   71       China   \n",
       "4           9kvTLo         Bay    Pencost    Male   21       China   \n",
       "...            ...         ...        ...     ...  ...         ...   \n",
       "98614       hnGQ62      Gareth    Mugford    Male   85       China   \n",
       "98615       2omEzh       Kasey   Benedict  Female   19      Russia   \n",
       "98616       VUPiVG      Darrin     Lucken    Male   65   Indonesia   \n",
       "98617       E47NtS       Gayle  Lievesley  Female   34       China   \n",
       "98618       8JYEcz  Wilhelmine     Touret  Female   10      Poland   \n",
       "\n",
       "                      Airport Name Airport Country Code        Country Name  \\\n",
       "0                 Coldfoot Airport                   US       United States   \n",
       "1                Kugluktuk Airport                   CA              Canada   \n",
       "2           Grenoble-Isère Airport                   FR              France   \n",
       "3        Ottawa / Gatineau Airport                   CA              Canada   \n",
       "4                  Gillespie Field                   US       United States   \n",
       "...                            ...                  ...                 ...   \n",
       "98614               Hasvik Airport                   NO              Norway   \n",
       "98615          Ampampamena Airport                   MG          Madagascar   \n",
       "98616  Albacete-Los Llanos Airport                   ES               Spain   \n",
       "98617               Gagnoa Airport                   CI       Côte d'Ivoire   \n",
       "98618          Yoshkar-Ola Airport                   RU  Russian Federation   \n",
       "\n",
       "      Airport Continent     Continents Departure Date Arrival Airport  \\\n",
       "0                   NAM  North America      6/28/2022             CXF   \n",
       "1                   NAM  North America     12/26/2022             YCO   \n",
       "2                    EU         Europe      1/18/2022             GNB   \n",
       "3                   NAM  North America      9/16/2022             YND   \n",
       "4                   NAM  North America      2/25/2022             SEE   \n",
       "...                 ...            ...            ...             ...   \n",
       "98614                EU         Europe     12-11-2022             HAA   \n",
       "98615                AF         Africa     10/30/2022             IVA   \n",
       "98616                EU         Europe     09-10-2022             ABC   \n",
       "98617                AF         Africa     10/26/2022             GGN   \n",
       "98618                EU         Europe      4/16/2022             JOK   \n",
       "\n",
       "                Pilot Name Flight Status  \n",
       "0      Fransisco Hazeldine       On Time  \n",
       "1          Marla Parsonage       On Time  \n",
       "2             Rhonda Amber       On Time  \n",
       "3           Kacie Commucci       Delayed  \n",
       "4              Ebonee Tree       On Time  \n",
       "...                    ...           ...  \n",
       "98614     Pammie Kingscote     Cancelled  \n",
       "98615       Dorice Lochran     Cancelled  \n",
       "98616         Gearalt Main       On Time  \n",
       "98617         Judon Chasle     Cancelled  \n",
       "98618      Auguste Tindley       Delayed  \n",
       "\n",
       "[98619 rows x 15 columns]"
      ]
     },
     "execution_count": 3,
     "metadata": {},
     "output_type": "execute_result"
    }
   ],
   "source": [
    "df"
   ]
  },
  {
   "cell_type": "code",
   "execution_count": 4,
   "id": "25ec2778",
   "metadata": {
    "execution": {
     "iopub.execute_input": "2023-10-27T07:07:07.054511Z",
     "iopub.status.busy": "2023-10-27T07:07:07.054103Z",
     "iopub.status.idle": "2023-10-27T07:07:07.221382Z",
     "shell.execute_reply": "2023-10-27T07:07:07.219976Z"
    },
    "papermill": {
     "duration": 0.181101,
     "end_time": "2023-10-27T07:07:07.223859",
     "exception": false,
     "start_time": "2023-10-27T07:07:07.042758",
     "status": "completed"
    },
    "tags": []
   },
   "outputs": [
    {
     "name": "stdout",
     "output_type": "stream",
     "text": [
      "<class 'pandas.core.frame.DataFrame'>\n",
      "RangeIndex: 98619 entries, 0 to 98618\n",
      "Data columns (total 15 columns):\n",
      " #   Column                Non-Null Count  Dtype \n",
      "---  ------                --------------  ----- \n",
      " 0   Passenger ID          98619 non-null  object\n",
      " 1   First Name            98619 non-null  object\n",
      " 2   Last Name             98619 non-null  object\n",
      " 3   Gender                98619 non-null  object\n",
      " 4   Age                   98619 non-null  int64 \n",
      " 5   Nationality           98619 non-null  object\n",
      " 6   Airport Name          98619 non-null  object\n",
      " 7   Airport Country Code  98619 non-null  object\n",
      " 8   Country Name          98619 non-null  object\n",
      " 9   Airport Continent     98619 non-null  object\n",
      " 10  Continents            98619 non-null  object\n",
      " 11  Departure Date        98619 non-null  object\n",
      " 12  Arrival Airport       98619 non-null  object\n",
      " 13  Pilot Name            98619 non-null  object\n",
      " 14  Flight Status         98619 non-null  object\n",
      "dtypes: int64(1), object(14)\n",
      "memory usage: 11.3+ MB\n"
     ]
    }
   ],
   "source": [
    "df.info()"
   ]
  },
  {
   "cell_type": "markdown",
   "id": "8d8dfc20",
   "metadata": {
    "papermill": {
     "duration": 0.009807,
     "end_time": "2023-10-27T07:07:07.243575",
     "exception": false,
     "start_time": "2023-10-27T07:07:07.233768",
     "status": "completed"
    },
    "tags": []
   },
   "source": [
    "<div style=\"border-radius:10px; border:#808080 solid; padding: 15px; background-color: ##F0E68C ; font-size:100%; text-align:left\">\n",
    "\n",
    "<h3 align=\"left\"><font color=blue>Observe</font></h3>\n",
    "\n",
    "* **Dataset has 15 features and 98619 samples.**\n",
    "* **All features except age are categorical.**\n",
    "* **Dataset has not missing values.**"
   ]
  },
  {
   "cell_type": "markdown",
   "id": "b68800bf",
   "metadata": {
    "papermill": {
     "duration": 0.009268,
     "end_time": "2023-10-27T07:07:07.262432",
     "exception": false,
     "start_time": "2023-10-27T07:07:07.253164",
     "status": "completed"
    },
    "tags": []
   },
   "source": [
    "<a id = \"3\"></a>\n",
    "# FEATURE ENGINEERING"
   ]
  },
  {
   "cell_type": "code",
   "execution_count": 5,
   "id": "32f16dcf",
   "metadata": {
    "execution": {
     "iopub.execute_input": "2023-10-27T07:07:07.283802Z",
     "iopub.status.busy": "2023-10-27T07:07:07.283436Z",
     "iopub.status.idle": "2023-10-27T07:07:07.327116Z",
     "shell.execute_reply": "2023-10-27T07:07:07.326228Z"
    },
    "papermill": {
     "duration": 0.057208,
     "end_time": "2023-10-27T07:07:07.329404",
     "exception": false,
     "start_time": "2023-10-27T07:07:07.272196",
     "status": "completed"
    },
    "tags": []
   },
   "outputs": [
    {
     "data": {
      "text/html": [
       "<div>\n",
       "<style scoped>\n",
       "    .dataframe tbody tr th:only-of-type {\n",
       "        vertical-align: middle;\n",
       "    }\n",
       "\n",
       "    .dataframe tbody tr th {\n",
       "        vertical-align: top;\n",
       "    }\n",
       "\n",
       "    .dataframe thead th {\n",
       "        text-align: right;\n",
       "    }\n",
       "</style>\n",
       "<table border=\"1\" class=\"dataframe\">\n",
       "  <thead>\n",
       "    <tr style=\"text-align: right;\">\n",
       "      <th></th>\n",
       "      <th>Gender</th>\n",
       "      <th>Age</th>\n",
       "      <th>Nationality</th>\n",
       "      <th>Airport Name</th>\n",
       "      <th>Airport Country Code</th>\n",
       "      <th>Country Name</th>\n",
       "      <th>Airport Continent</th>\n",
       "      <th>Continents</th>\n",
       "      <th>Departure Date</th>\n",
       "      <th>Arrival Airport</th>\n",
       "      <th>Flight Status</th>\n",
       "    </tr>\n",
       "  </thead>\n",
       "  <tbody>\n",
       "    <tr>\n",
       "      <th>0</th>\n",
       "      <td>Female</td>\n",
       "      <td>62</td>\n",
       "      <td>Japan</td>\n",
       "      <td>Coldfoot Airport</td>\n",
       "      <td>US</td>\n",
       "      <td>United States</td>\n",
       "      <td>NAM</td>\n",
       "      <td>North America</td>\n",
       "      <td>6/28/2022</td>\n",
       "      <td>CXF</td>\n",
       "      <td>On Time</td>\n",
       "    </tr>\n",
       "    <tr>\n",
       "      <th>1</th>\n",
       "      <td>Male</td>\n",
       "      <td>62</td>\n",
       "      <td>Nicaragua</td>\n",
       "      <td>Kugluktuk Airport</td>\n",
       "      <td>CA</td>\n",
       "      <td>Canada</td>\n",
       "      <td>NAM</td>\n",
       "      <td>North America</td>\n",
       "      <td>12/26/2022</td>\n",
       "      <td>YCO</td>\n",
       "      <td>On Time</td>\n",
       "    </tr>\n",
       "    <tr>\n",
       "      <th>2</th>\n",
       "      <td>Male</td>\n",
       "      <td>67</td>\n",
       "      <td>Russia</td>\n",
       "      <td>Grenoble-Isère Airport</td>\n",
       "      <td>FR</td>\n",
       "      <td>France</td>\n",
       "      <td>EU</td>\n",
       "      <td>Europe</td>\n",
       "      <td>1/18/2022</td>\n",
       "      <td>GNB</td>\n",
       "      <td>On Time</td>\n",
       "    </tr>\n",
       "    <tr>\n",
       "      <th>3</th>\n",
       "      <td>Female</td>\n",
       "      <td>71</td>\n",
       "      <td>China</td>\n",
       "      <td>Ottawa / Gatineau Airport</td>\n",
       "      <td>CA</td>\n",
       "      <td>Canada</td>\n",
       "      <td>NAM</td>\n",
       "      <td>North America</td>\n",
       "      <td>9/16/2022</td>\n",
       "      <td>YND</td>\n",
       "      <td>Delayed</td>\n",
       "    </tr>\n",
       "    <tr>\n",
       "      <th>4</th>\n",
       "      <td>Male</td>\n",
       "      <td>21</td>\n",
       "      <td>China</td>\n",
       "      <td>Gillespie Field</td>\n",
       "      <td>US</td>\n",
       "      <td>United States</td>\n",
       "      <td>NAM</td>\n",
       "      <td>North America</td>\n",
       "      <td>2/25/2022</td>\n",
       "      <td>SEE</td>\n",
       "      <td>On Time</td>\n",
       "    </tr>\n",
       "    <tr>\n",
       "      <th>...</th>\n",
       "      <td>...</td>\n",
       "      <td>...</td>\n",
       "      <td>...</td>\n",
       "      <td>...</td>\n",
       "      <td>...</td>\n",
       "      <td>...</td>\n",
       "      <td>...</td>\n",
       "      <td>...</td>\n",
       "      <td>...</td>\n",
       "      <td>...</td>\n",
       "      <td>...</td>\n",
       "    </tr>\n",
       "    <tr>\n",
       "      <th>98614</th>\n",
       "      <td>Male</td>\n",
       "      <td>85</td>\n",
       "      <td>China</td>\n",
       "      <td>Hasvik Airport</td>\n",
       "      <td>NO</td>\n",
       "      <td>Norway</td>\n",
       "      <td>EU</td>\n",
       "      <td>Europe</td>\n",
       "      <td>12-11-2022</td>\n",
       "      <td>HAA</td>\n",
       "      <td>Cancelled</td>\n",
       "    </tr>\n",
       "    <tr>\n",
       "      <th>98615</th>\n",
       "      <td>Female</td>\n",
       "      <td>19</td>\n",
       "      <td>Russia</td>\n",
       "      <td>Ampampamena Airport</td>\n",
       "      <td>MG</td>\n",
       "      <td>Madagascar</td>\n",
       "      <td>AF</td>\n",
       "      <td>Africa</td>\n",
       "      <td>10/30/2022</td>\n",
       "      <td>IVA</td>\n",
       "      <td>Cancelled</td>\n",
       "    </tr>\n",
       "    <tr>\n",
       "      <th>98616</th>\n",
       "      <td>Male</td>\n",
       "      <td>65</td>\n",
       "      <td>Indonesia</td>\n",
       "      <td>Albacete-Los Llanos Airport</td>\n",
       "      <td>ES</td>\n",
       "      <td>Spain</td>\n",
       "      <td>EU</td>\n",
       "      <td>Europe</td>\n",
       "      <td>09-10-2022</td>\n",
       "      <td>ABC</td>\n",
       "      <td>On Time</td>\n",
       "    </tr>\n",
       "    <tr>\n",
       "      <th>98617</th>\n",
       "      <td>Female</td>\n",
       "      <td>34</td>\n",
       "      <td>China</td>\n",
       "      <td>Gagnoa Airport</td>\n",
       "      <td>CI</td>\n",
       "      <td>Côte d'Ivoire</td>\n",
       "      <td>AF</td>\n",
       "      <td>Africa</td>\n",
       "      <td>10/26/2022</td>\n",
       "      <td>GGN</td>\n",
       "      <td>Cancelled</td>\n",
       "    </tr>\n",
       "    <tr>\n",
       "      <th>98618</th>\n",
       "      <td>Female</td>\n",
       "      <td>10</td>\n",
       "      <td>Poland</td>\n",
       "      <td>Yoshkar-Ola Airport</td>\n",
       "      <td>RU</td>\n",
       "      <td>Russian Federation</td>\n",
       "      <td>EU</td>\n",
       "      <td>Europe</td>\n",
       "      <td>4/16/2022</td>\n",
       "      <td>JOK</td>\n",
       "      <td>Delayed</td>\n",
       "    </tr>\n",
       "  </tbody>\n",
       "</table>\n",
       "<p>98619 rows × 11 columns</p>\n",
       "</div>"
      ],
      "text/plain": [
       "       Gender  Age Nationality                 Airport Name  \\\n",
       "0      Female   62       Japan             Coldfoot Airport   \n",
       "1        Male   62   Nicaragua            Kugluktuk Airport   \n",
       "2        Male   67      Russia       Grenoble-Isère Airport   \n",
       "3      Female   71       China    Ottawa / Gatineau Airport   \n",
       "4        Male   21       China              Gillespie Field   \n",
       "...       ...  ...         ...                          ...   \n",
       "98614    Male   85       China               Hasvik Airport   \n",
       "98615  Female   19      Russia          Ampampamena Airport   \n",
       "98616    Male   65   Indonesia  Albacete-Los Llanos Airport   \n",
       "98617  Female   34       China               Gagnoa Airport   \n",
       "98618  Female   10      Poland          Yoshkar-Ola Airport   \n",
       "\n",
       "      Airport Country Code        Country Name Airport Continent  \\\n",
       "0                       US       United States               NAM   \n",
       "1                       CA              Canada               NAM   \n",
       "2                       FR              France                EU   \n",
       "3                       CA              Canada               NAM   \n",
       "4                       US       United States               NAM   \n",
       "...                    ...                 ...               ...   \n",
       "98614                   NO              Norway                EU   \n",
       "98615                   MG          Madagascar                AF   \n",
       "98616                   ES               Spain                EU   \n",
       "98617                   CI       Côte d'Ivoire                AF   \n",
       "98618                   RU  Russian Federation                EU   \n",
       "\n",
       "          Continents Departure Date Arrival Airport Flight Status  \n",
       "0      North America      6/28/2022             CXF       On Time  \n",
       "1      North America     12/26/2022             YCO       On Time  \n",
       "2             Europe      1/18/2022             GNB       On Time  \n",
       "3      North America      9/16/2022             YND       Delayed  \n",
       "4      North America      2/25/2022             SEE       On Time  \n",
       "...              ...            ...             ...           ...  \n",
       "98614         Europe     12-11-2022             HAA     Cancelled  \n",
       "98615         Africa     10/30/2022             IVA     Cancelled  \n",
       "98616         Europe     09-10-2022             ABC       On Time  \n",
       "98617         Africa     10/26/2022             GGN     Cancelled  \n",
       "98618         Europe      4/16/2022             JOK       Delayed  \n",
       "\n",
       "[98619 rows x 11 columns]"
      ]
     },
     "execution_count": 5,
     "metadata": {},
     "output_type": "execute_result"
    }
   ],
   "source": [
    "# remove Passenger ID, First Name, Last Name and Pilot Name from dataset\n",
    "df.drop([\"Passenger ID\", \"First Name\", \"Last Name\", \"Pilot Name\"], axis = 1, inplace = True)\n",
    "df"
   ]
  },
  {
   "cell_type": "code",
   "execution_count": 6,
   "id": "85646c57",
   "metadata": {
    "execution": {
     "iopub.execute_input": "2023-10-27T07:07:07.351320Z",
     "iopub.status.busy": "2023-10-27T07:07:07.350899Z",
     "iopub.status.idle": "2023-10-27T07:07:07.382620Z",
     "shell.execute_reply": "2023-10-27T07:07:07.381684Z"
    },
    "papermill": {
     "duration": 0.045484,
     "end_time": "2023-10-27T07:07:07.384890",
     "exception": false,
     "start_time": "2023-10-27T07:07:07.339406",
     "status": "completed"
    },
    "tags": []
   },
   "outputs": [
    {
     "data": {
      "text/html": [
       "<div>\n",
       "<style scoped>\n",
       "    .dataframe tbody tr th:only-of-type {\n",
       "        vertical-align: middle;\n",
       "    }\n",
       "\n",
       "    .dataframe tbody tr th {\n",
       "        vertical-align: top;\n",
       "    }\n",
       "\n",
       "    .dataframe thead th {\n",
       "        text-align: right;\n",
       "    }\n",
       "</style>\n",
       "<table border=\"1\" class=\"dataframe\">\n",
       "  <thead>\n",
       "    <tr style=\"text-align: right;\">\n",
       "      <th></th>\n",
       "      <th>Gender</th>\n",
       "      <th>Age</th>\n",
       "      <th>Nationality</th>\n",
       "      <th>Airport Name</th>\n",
       "      <th>Country Name</th>\n",
       "      <th>Continents</th>\n",
       "      <th>Departure Date</th>\n",
       "      <th>Arrival Airport</th>\n",
       "      <th>Flight Status</th>\n",
       "    </tr>\n",
       "  </thead>\n",
       "  <tbody>\n",
       "    <tr>\n",
       "      <th>0</th>\n",
       "      <td>Female</td>\n",
       "      <td>62</td>\n",
       "      <td>Japan</td>\n",
       "      <td>Coldfoot Airport</td>\n",
       "      <td>United States</td>\n",
       "      <td>North America</td>\n",
       "      <td>6/28/2022</td>\n",
       "      <td>CXF</td>\n",
       "      <td>On Time</td>\n",
       "    </tr>\n",
       "    <tr>\n",
       "      <th>1</th>\n",
       "      <td>Male</td>\n",
       "      <td>62</td>\n",
       "      <td>Nicaragua</td>\n",
       "      <td>Kugluktuk Airport</td>\n",
       "      <td>Canada</td>\n",
       "      <td>North America</td>\n",
       "      <td>12/26/2022</td>\n",
       "      <td>YCO</td>\n",
       "      <td>On Time</td>\n",
       "    </tr>\n",
       "    <tr>\n",
       "      <th>2</th>\n",
       "      <td>Male</td>\n",
       "      <td>67</td>\n",
       "      <td>Russia</td>\n",
       "      <td>Grenoble-Isère Airport</td>\n",
       "      <td>France</td>\n",
       "      <td>Europe</td>\n",
       "      <td>1/18/2022</td>\n",
       "      <td>GNB</td>\n",
       "      <td>On Time</td>\n",
       "    </tr>\n",
       "    <tr>\n",
       "      <th>3</th>\n",
       "      <td>Female</td>\n",
       "      <td>71</td>\n",
       "      <td>China</td>\n",
       "      <td>Ottawa / Gatineau Airport</td>\n",
       "      <td>Canada</td>\n",
       "      <td>North America</td>\n",
       "      <td>9/16/2022</td>\n",
       "      <td>YND</td>\n",
       "      <td>Delayed</td>\n",
       "    </tr>\n",
       "    <tr>\n",
       "      <th>4</th>\n",
       "      <td>Male</td>\n",
       "      <td>21</td>\n",
       "      <td>China</td>\n",
       "      <td>Gillespie Field</td>\n",
       "      <td>United States</td>\n",
       "      <td>North America</td>\n",
       "      <td>2/25/2022</td>\n",
       "      <td>SEE</td>\n",
       "      <td>On Time</td>\n",
       "    </tr>\n",
       "    <tr>\n",
       "      <th>...</th>\n",
       "      <td>...</td>\n",
       "      <td>...</td>\n",
       "      <td>...</td>\n",
       "      <td>...</td>\n",
       "      <td>...</td>\n",
       "      <td>...</td>\n",
       "      <td>...</td>\n",
       "      <td>...</td>\n",
       "      <td>...</td>\n",
       "    </tr>\n",
       "    <tr>\n",
       "      <th>98614</th>\n",
       "      <td>Male</td>\n",
       "      <td>85</td>\n",
       "      <td>China</td>\n",
       "      <td>Hasvik Airport</td>\n",
       "      <td>Norway</td>\n",
       "      <td>Europe</td>\n",
       "      <td>12-11-2022</td>\n",
       "      <td>HAA</td>\n",
       "      <td>Cancelled</td>\n",
       "    </tr>\n",
       "    <tr>\n",
       "      <th>98615</th>\n",
       "      <td>Female</td>\n",
       "      <td>19</td>\n",
       "      <td>Russia</td>\n",
       "      <td>Ampampamena Airport</td>\n",
       "      <td>Madagascar</td>\n",
       "      <td>Africa</td>\n",
       "      <td>10/30/2022</td>\n",
       "      <td>IVA</td>\n",
       "      <td>Cancelled</td>\n",
       "    </tr>\n",
       "    <tr>\n",
       "      <th>98616</th>\n",
       "      <td>Male</td>\n",
       "      <td>65</td>\n",
       "      <td>Indonesia</td>\n",
       "      <td>Albacete-Los Llanos Airport</td>\n",
       "      <td>Spain</td>\n",
       "      <td>Europe</td>\n",
       "      <td>09-10-2022</td>\n",
       "      <td>ABC</td>\n",
       "      <td>On Time</td>\n",
       "    </tr>\n",
       "    <tr>\n",
       "      <th>98617</th>\n",
       "      <td>Female</td>\n",
       "      <td>34</td>\n",
       "      <td>China</td>\n",
       "      <td>Gagnoa Airport</td>\n",
       "      <td>Côte d'Ivoire</td>\n",
       "      <td>Africa</td>\n",
       "      <td>10/26/2022</td>\n",
       "      <td>GGN</td>\n",
       "      <td>Cancelled</td>\n",
       "    </tr>\n",
       "    <tr>\n",
       "      <th>98618</th>\n",
       "      <td>Female</td>\n",
       "      <td>10</td>\n",
       "      <td>Poland</td>\n",
       "      <td>Yoshkar-Ola Airport</td>\n",
       "      <td>Russian Federation</td>\n",
       "      <td>Europe</td>\n",
       "      <td>4/16/2022</td>\n",
       "      <td>JOK</td>\n",
       "      <td>Delayed</td>\n",
       "    </tr>\n",
       "  </tbody>\n",
       "</table>\n",
       "<p>98619 rows × 9 columns</p>\n",
       "</div>"
      ],
      "text/plain": [
       "       Gender  Age Nationality                 Airport Name  \\\n",
       "0      Female   62       Japan             Coldfoot Airport   \n",
       "1        Male   62   Nicaragua            Kugluktuk Airport   \n",
       "2        Male   67      Russia       Grenoble-Isère Airport   \n",
       "3      Female   71       China    Ottawa / Gatineau Airport   \n",
       "4        Male   21       China              Gillespie Field   \n",
       "...       ...  ...         ...                          ...   \n",
       "98614    Male   85       China               Hasvik Airport   \n",
       "98615  Female   19      Russia          Ampampamena Airport   \n",
       "98616    Male   65   Indonesia  Albacete-Los Llanos Airport   \n",
       "98617  Female   34       China               Gagnoa Airport   \n",
       "98618  Female   10      Poland          Yoshkar-Ola Airport   \n",
       "\n",
       "             Country Name     Continents Departure Date Arrival Airport  \\\n",
       "0           United States  North America      6/28/2022             CXF   \n",
       "1                  Canada  North America     12/26/2022             YCO   \n",
       "2                  France         Europe      1/18/2022             GNB   \n",
       "3                  Canada  North America      9/16/2022             YND   \n",
       "4           United States  North America      2/25/2022             SEE   \n",
       "...                   ...            ...            ...             ...   \n",
       "98614              Norway         Europe     12-11-2022             HAA   \n",
       "98615          Madagascar         Africa     10/30/2022             IVA   \n",
       "98616               Spain         Europe     09-10-2022             ABC   \n",
       "98617       Côte d'Ivoire         Africa     10/26/2022             GGN   \n",
       "98618  Russian Federation         Europe      4/16/2022             JOK   \n",
       "\n",
       "      Flight Status  \n",
       "0           On Time  \n",
       "1           On Time  \n",
       "2           On Time  \n",
       "3           Delayed  \n",
       "4           On Time  \n",
       "...             ...  \n",
       "98614     Cancelled  \n",
       "98615     Cancelled  \n",
       "98616       On Time  \n",
       "98617     Cancelled  \n",
       "98618       Delayed  \n",
       "\n",
       "[98619 rows x 9 columns]"
      ]
     },
     "execution_count": 6,
     "metadata": {},
     "output_type": "execute_result"
    }
   ],
   "source": [
    "# remove Airport Continent and Airport Country Code from dataset\n",
    "df.drop([\"Airport Continent\",\"Airport Country Code\"], axis = 1, inplace = True)\n",
    "df"
   ]
  },
  {
   "cell_type": "code",
   "execution_count": 7,
   "id": "2ba84fff",
   "metadata": {
    "execution": {
     "iopub.execute_input": "2023-10-27T07:07:07.408176Z",
     "iopub.status.busy": "2023-10-27T07:07:07.407470Z",
     "iopub.status.idle": "2023-10-27T07:07:07.413230Z",
     "shell.execute_reply": "2023-10-27T07:07:07.412272Z"
    },
    "papermill": {
     "duration": 0.020081,
     "end_time": "2023-10-27T07:07:07.415432",
     "exception": false,
     "start_time": "2023-10-27T07:07:07.395351",
     "status": "completed"
    },
    "tags": []
   },
   "outputs": [],
   "source": [
    "# Replace name some features\n",
    "df.rename(columns={\"Airport Name\": \"Airport_Name\",\n",
    "                  \"Country Name\": \"Country_Name\",\n",
    "                  \"Departure Date\": \"Departure_Date\",\n",
    "                  \"Arrival Airport\": \"Arrival_Airport\",\n",
    "                  \"Flight Status\": \"Flight_Status\"},inplace = True)"
   ]
  },
  {
   "cell_type": "code",
   "execution_count": 8,
   "id": "9ed86883",
   "metadata": {
    "execution": {
     "iopub.execute_input": "2023-10-27T07:07:07.438717Z",
     "iopub.status.busy": "2023-10-27T07:07:07.438066Z",
     "iopub.status.idle": "2023-10-27T07:07:08.453349Z",
     "shell.execute_reply": "2023-10-27T07:07:08.452376Z"
    },
    "papermill": {
     "duration": 1.030045,
     "end_time": "2023-10-27T07:07:08.455947",
     "exception": false,
     "start_time": "2023-10-27T07:07:07.425902",
     "status": "completed"
    },
    "tags": []
   },
   "outputs": [],
   "source": [
    "# Create new features froom Departure Date\n",
    "df.Departure_Date = df.Departure_Date.str.replace(\"-\", \"/\")\n",
    "df[\"Departure_Month\"] = df.Departure_Date.str.split(\"/\", expand = True)[0]\n",
    "df[\"Departure_Day\"] = df.Departure_Date.str.split(\"/\", expand = True)[1]\n",
    "df[\"Departure_Year\"] = df.Departure_Date.str.split(\"/\", expand = True)[2]\n",
    "df.drop([\"Departure_Date\"], axis = 1, inplace = True)\n"
   ]
  },
  {
   "cell_type": "code",
   "execution_count": 9,
   "id": "f19fac33",
   "metadata": {
    "execution": {
     "iopub.execute_input": "2023-10-27T07:07:08.479610Z",
     "iopub.status.busy": "2023-10-27T07:07:08.479229Z",
     "iopub.status.idle": "2023-10-27T07:07:08.502123Z",
     "shell.execute_reply": "2023-10-27T07:07:08.500913Z"
    },
    "papermill": {
     "duration": 0.037898,
     "end_time": "2023-10-27T07:07:08.504743",
     "exception": false,
     "start_time": "2023-10-27T07:07:08.466845",
     "status": "completed"
    },
    "tags": []
   },
   "outputs": [
    {
     "data": {
      "text/plain": [
       "1"
      ]
     },
     "execution_count": 9,
     "metadata": {},
     "output_type": "execute_result"
    }
   ],
   "source": [
    "df[\"Departure_Year\"].nunique()"
   ]
  },
  {
   "cell_type": "code",
   "execution_count": 10,
   "id": "7aad963d",
   "metadata": {
    "execution": {
     "iopub.execute_input": "2023-10-27T07:07:08.528082Z",
     "iopub.status.busy": "2023-10-27T07:07:08.527347Z",
     "iopub.status.idle": "2023-10-27T07:07:08.555415Z",
     "shell.execute_reply": "2023-10-27T07:07:08.554299Z"
    },
    "papermill": {
     "duration": 0.042504,
     "end_time": "2023-10-27T07:07:08.557896",
     "exception": false,
     "start_time": "2023-10-27T07:07:08.515392",
     "status": "completed"
    },
    "tags": []
   },
   "outputs": [],
   "source": [
    "# Remove departure year from dataset\n",
    "df.drop([\"Departure_Year\"], axis = 1, inplace = True)"
   ]
  },
  {
   "cell_type": "code",
   "execution_count": 11,
   "id": "f164dca2",
   "metadata": {
    "execution": {
     "iopub.execute_input": "2023-10-27T07:07:08.581637Z",
     "iopub.status.busy": "2023-10-27T07:07:08.580844Z",
     "iopub.status.idle": "2023-10-27T07:07:08.601026Z",
     "shell.execute_reply": "2023-10-27T07:07:08.599918Z"
    },
    "papermill": {
     "duration": 0.035094,
     "end_time": "2023-10-27T07:07:08.603673",
     "exception": false,
     "start_time": "2023-10-27T07:07:08.568579",
     "status": "completed"
    },
    "tags": []
   },
   "outputs": [
    {
     "data": {
      "text/html": [
       "<div>\n",
       "<style scoped>\n",
       "    .dataframe tbody tr th:only-of-type {\n",
       "        vertical-align: middle;\n",
       "    }\n",
       "\n",
       "    .dataframe tbody tr th {\n",
       "        vertical-align: top;\n",
       "    }\n",
       "\n",
       "    .dataframe thead th {\n",
       "        text-align: right;\n",
       "    }\n",
       "</style>\n",
       "<table border=\"1\" class=\"dataframe\">\n",
       "  <thead>\n",
       "    <tr style=\"text-align: right;\">\n",
       "      <th></th>\n",
       "      <th>Gender</th>\n",
       "      <th>Age</th>\n",
       "      <th>Nationality</th>\n",
       "      <th>Airport_Name</th>\n",
       "      <th>Country_Name</th>\n",
       "      <th>Continents</th>\n",
       "      <th>Arrival_Airport</th>\n",
       "      <th>Flight_Status</th>\n",
       "      <th>Departure_Month</th>\n",
       "      <th>Departure_Day</th>\n",
       "    </tr>\n",
       "  </thead>\n",
       "  <tbody>\n",
       "    <tr>\n",
       "      <th>0</th>\n",
       "      <td>Female</td>\n",
       "      <td>62</td>\n",
       "      <td>Japan</td>\n",
       "      <td>Coldfoot Airport</td>\n",
       "      <td>United States</td>\n",
       "      <td>North America</td>\n",
       "      <td>CXF</td>\n",
       "      <td>On Time</td>\n",
       "      <td>6</td>\n",
       "      <td>28</td>\n",
       "    </tr>\n",
       "    <tr>\n",
       "      <th>1</th>\n",
       "      <td>Male</td>\n",
       "      <td>62</td>\n",
       "      <td>Nicaragua</td>\n",
       "      <td>Kugluktuk Airport</td>\n",
       "      <td>Canada</td>\n",
       "      <td>North America</td>\n",
       "      <td>YCO</td>\n",
       "      <td>On Time</td>\n",
       "      <td>12</td>\n",
       "      <td>26</td>\n",
       "    </tr>\n",
       "    <tr>\n",
       "      <th>2</th>\n",
       "      <td>Male</td>\n",
       "      <td>67</td>\n",
       "      <td>Russia</td>\n",
       "      <td>Grenoble-Isère Airport</td>\n",
       "      <td>France</td>\n",
       "      <td>Europe</td>\n",
       "      <td>GNB</td>\n",
       "      <td>On Time</td>\n",
       "      <td>1</td>\n",
       "      <td>18</td>\n",
       "    </tr>\n",
       "    <tr>\n",
       "      <th>3</th>\n",
       "      <td>Female</td>\n",
       "      <td>71</td>\n",
       "      <td>China</td>\n",
       "      <td>Ottawa / Gatineau Airport</td>\n",
       "      <td>Canada</td>\n",
       "      <td>North America</td>\n",
       "      <td>YND</td>\n",
       "      <td>Delayed</td>\n",
       "      <td>9</td>\n",
       "      <td>16</td>\n",
       "    </tr>\n",
       "    <tr>\n",
       "      <th>4</th>\n",
       "      <td>Male</td>\n",
       "      <td>21</td>\n",
       "      <td>China</td>\n",
       "      <td>Gillespie Field</td>\n",
       "      <td>United States</td>\n",
       "      <td>North America</td>\n",
       "      <td>SEE</td>\n",
       "      <td>On Time</td>\n",
       "      <td>2</td>\n",
       "      <td>25</td>\n",
       "    </tr>\n",
       "    <tr>\n",
       "      <th>...</th>\n",
       "      <td>...</td>\n",
       "      <td>...</td>\n",
       "      <td>...</td>\n",
       "      <td>...</td>\n",
       "      <td>...</td>\n",
       "      <td>...</td>\n",
       "      <td>...</td>\n",
       "      <td>...</td>\n",
       "      <td>...</td>\n",
       "      <td>...</td>\n",
       "    </tr>\n",
       "    <tr>\n",
       "      <th>98614</th>\n",
       "      <td>Male</td>\n",
       "      <td>85</td>\n",
       "      <td>China</td>\n",
       "      <td>Hasvik Airport</td>\n",
       "      <td>Norway</td>\n",
       "      <td>Europe</td>\n",
       "      <td>HAA</td>\n",
       "      <td>Cancelled</td>\n",
       "      <td>12</td>\n",
       "      <td>11</td>\n",
       "    </tr>\n",
       "    <tr>\n",
       "      <th>98615</th>\n",
       "      <td>Female</td>\n",
       "      <td>19</td>\n",
       "      <td>Russia</td>\n",
       "      <td>Ampampamena Airport</td>\n",
       "      <td>Madagascar</td>\n",
       "      <td>Africa</td>\n",
       "      <td>IVA</td>\n",
       "      <td>Cancelled</td>\n",
       "      <td>10</td>\n",
       "      <td>30</td>\n",
       "    </tr>\n",
       "    <tr>\n",
       "      <th>98616</th>\n",
       "      <td>Male</td>\n",
       "      <td>65</td>\n",
       "      <td>Indonesia</td>\n",
       "      <td>Albacete-Los Llanos Airport</td>\n",
       "      <td>Spain</td>\n",
       "      <td>Europe</td>\n",
       "      <td>ABC</td>\n",
       "      <td>On Time</td>\n",
       "      <td>09</td>\n",
       "      <td>10</td>\n",
       "    </tr>\n",
       "    <tr>\n",
       "      <th>98617</th>\n",
       "      <td>Female</td>\n",
       "      <td>34</td>\n",
       "      <td>China</td>\n",
       "      <td>Gagnoa Airport</td>\n",
       "      <td>Côte d'Ivoire</td>\n",
       "      <td>Africa</td>\n",
       "      <td>GGN</td>\n",
       "      <td>Cancelled</td>\n",
       "      <td>10</td>\n",
       "      <td>26</td>\n",
       "    </tr>\n",
       "    <tr>\n",
       "      <th>98618</th>\n",
       "      <td>Female</td>\n",
       "      <td>10</td>\n",
       "      <td>Poland</td>\n",
       "      <td>Yoshkar-Ola Airport</td>\n",
       "      <td>Russian Federation</td>\n",
       "      <td>Europe</td>\n",
       "      <td>JOK</td>\n",
       "      <td>Delayed</td>\n",
       "      <td>4</td>\n",
       "      <td>16</td>\n",
       "    </tr>\n",
       "  </tbody>\n",
       "</table>\n",
       "<p>98619 rows × 10 columns</p>\n",
       "</div>"
      ],
      "text/plain": [
       "       Gender  Age Nationality                 Airport_Name  \\\n",
       "0      Female   62       Japan             Coldfoot Airport   \n",
       "1        Male   62   Nicaragua            Kugluktuk Airport   \n",
       "2        Male   67      Russia       Grenoble-Isère Airport   \n",
       "3      Female   71       China    Ottawa / Gatineau Airport   \n",
       "4        Male   21       China              Gillespie Field   \n",
       "...       ...  ...         ...                          ...   \n",
       "98614    Male   85       China               Hasvik Airport   \n",
       "98615  Female   19      Russia          Ampampamena Airport   \n",
       "98616    Male   65   Indonesia  Albacete-Los Llanos Airport   \n",
       "98617  Female   34       China               Gagnoa Airport   \n",
       "98618  Female   10      Poland          Yoshkar-Ola Airport   \n",
       "\n",
       "             Country_Name     Continents Arrival_Airport Flight_Status  \\\n",
       "0           United States  North America             CXF       On Time   \n",
       "1                  Canada  North America             YCO       On Time   \n",
       "2                  France         Europe             GNB       On Time   \n",
       "3                  Canada  North America             YND       Delayed   \n",
       "4           United States  North America             SEE       On Time   \n",
       "...                   ...            ...             ...           ...   \n",
       "98614              Norway         Europe             HAA     Cancelled   \n",
       "98615          Madagascar         Africa             IVA     Cancelled   \n",
       "98616               Spain         Europe             ABC       On Time   \n",
       "98617       Côte d'Ivoire         Africa             GGN     Cancelled   \n",
       "98618  Russian Federation         Europe             JOK       Delayed   \n",
       "\n",
       "      Departure_Month Departure_Day  \n",
       "0                   6            28  \n",
       "1                  12            26  \n",
       "2                   1            18  \n",
       "3                   9            16  \n",
       "4                   2            25  \n",
       "...               ...           ...  \n",
       "98614              12            11  \n",
       "98615              10            30  \n",
       "98616              09            10  \n",
       "98617              10            26  \n",
       "98618               4            16  \n",
       "\n",
       "[98619 rows x 10 columns]"
      ]
     },
     "execution_count": 11,
     "metadata": {},
     "output_type": "execute_result"
    }
   ],
   "source": [
    "df"
   ]
  },
  {
   "cell_type": "markdown",
   "id": "213092c8",
   "metadata": {
    "papermill": {
     "duration": 0.010746,
     "end_time": "2023-10-27T07:07:08.625396",
     "exception": false,
     "start_time": "2023-10-27T07:07:08.614650",
     "status": "completed"
    },
    "tags": []
   },
   "source": [
    "<div style=\"border-radius:10px; border:#808080 solid; padding: 15px; background-color: ##F0E68C ; font-size:100%; text-align:left\">\n",
    "\n",
    "<h3 align=\"left\"><font color=blue>To Done</font></h3>\n",
    "\n",
    "* **We removed features with unique values (Passenger ID, First Name, Last Name and Pilot Name) from the dataset.**\n",
    "* **Since Airport Country Code and Country Name express the same values and Airport Continent and Continents also express the same values, we extracted one of the features that express the same value.**\n",
    "* **We created new features by splitting Departure Date into month, day and year. Also, since the year variable only has the value 2022, we removed it from the dataset.**"
   ]
  },
  {
   "cell_type": "markdown",
   "id": "d16224d4",
   "metadata": {
    "papermill": {
     "duration": 0.010823,
     "end_time": "2023-10-27T07:07:08.647553",
     "exception": false,
     "start_time": "2023-10-27T07:07:08.636730",
     "status": "completed"
    },
    "tags": []
   },
   "source": [
    "<a id = \"4\"></a>\n",
    "# EDA"
   ]
  },
  {
   "cell_type": "code",
   "execution_count": 12,
   "id": "9222d20c",
   "metadata": {
    "execution": {
     "iopub.execute_input": "2023-10-27T07:07:08.671939Z",
     "iopub.status.busy": "2023-10-27T07:07:08.671241Z",
     "iopub.status.idle": "2023-10-27T07:07:08.782080Z",
     "shell.execute_reply": "2023-10-27T07:07:08.780728Z"
    },
    "papermill": {
     "duration": 0.126062,
     "end_time": "2023-10-27T07:07:08.784690",
     "exception": false,
     "start_time": "2023-10-27T07:07:08.658628",
     "status": "completed"
    },
    "tags": []
   },
   "outputs": [
    {
     "name": "stdout",
     "output_type": "stream",
     "text": [
      "Gender .....: 2\n",
      "Age .....: 90\n",
      "Nationality .....: 240\n",
      "Airport_Name .....: 9062\n",
      "Country_Name .....: 235\n",
      "Continents .....: 6\n",
      "Arrival_Airport .....: 9024\n",
      "Flight_Status .....: 3\n",
      "Departure_Month .....: 21\n",
      "Departure_Day .....: 31\n"
     ]
    }
   ],
   "source": [
    "for col in df.columns:\n",
    "    print(col, \".....:\",df[col].nunique())"
   ]
  },
  {
   "cell_type": "code",
   "execution_count": 13,
   "id": "ed16dc9e",
   "metadata": {
    "execution": {
     "iopub.execute_input": "2023-10-27T07:07:08.809363Z",
     "iopub.status.busy": "2023-10-27T07:07:08.808698Z",
     "iopub.status.idle": "2023-10-27T07:07:09.248406Z",
     "shell.execute_reply": "2023-10-27T07:07:09.247218Z"
    },
    "papermill": {
     "duration": 0.454954,
     "end_time": "2023-10-27T07:07:09.251087",
     "exception": false,
     "start_time": "2023-10-27T07:07:08.796133",
     "status": "completed"
    },
    "tags": []
   },
   "outputs": [
    {
     "data": {
      "image/png": "[encoded data removed]",
      "text/plain": [
       "<Figure size 1400x700 with 2 Axes>"
      ]
     },
     "metadata": {},
     "output_type": "display_data"
    }
   ],
   "source": [
    "fig, ax = plt.subplots(ncols = 2,nrows = 1,figsize = (14,7))\n",
    "flight_status = df.Flight_Status.value_counts().index\n",
    "counts = df.Flight_Status.value_counts().values\n",
    "ax[0].bar(flight_status, counts,color = ['tab:red', 'tab:green', 'tab:orange' ])\n",
    "gender = df.Gender.value_counts().index\n",
    "gender_counts = df.Gender.value_counts().values\n",
    "ax[1].bar(gender, gender_counts, color = [ 'tab:green', 'tab:orange' ])\n",
    "plt.show()"
   ]
  },
  {
   "cell_type": "code",
   "execution_count": 14,
   "id": "df0ed4ec",
   "metadata": {
    "execution": {
     "iopub.execute_input": "2023-10-27T07:07:09.276825Z",
     "iopub.status.busy": "2023-10-27T07:07:09.276186Z",
     "iopub.status.idle": "2023-10-27T07:07:09.311375Z",
     "shell.execute_reply": "2023-10-27T07:07:09.309913Z"
    },
    "papermill": {
     "duration": 0.051096,
     "end_time": "2023-10-27T07:07:09.314021",
     "exception": false,
     "start_time": "2023-10-27T07:07:09.262925",
     "status": "completed"
    },
    "tags": []
   },
   "outputs": [
    {
     "name": "stdout",
     "output_type": "stream",
     "text": [
      "Flight_Status  Gender\n",
      "Cancelled      Male      16490\n",
      "               Female    16452\n",
      "Delayed        Male      16540\n",
      "               Female    16291\n",
      "On Time        Male      16568\n",
      "               Female    16278\n",
      "Name: count, dtype: int64\n"
     ]
    }
   ],
   "source": [
    "print(df.groupby(\"Flight_Status\")[\"Gender\"].value_counts())"
   ]
  },
  {
   "cell_type": "code",
   "execution_count": 15,
   "id": "9b3d1804",
   "metadata": {
    "execution": {
     "iopub.execute_input": "2023-10-27T07:07:09.340528Z",
     "iopub.status.busy": "2023-10-27T07:07:09.340123Z",
     "iopub.status.idle": "2023-10-27T07:07:09.635086Z",
     "shell.execute_reply": "2023-10-27T07:07:09.633717Z"
    },
    "papermill": {
     "duration": 0.311207,
     "end_time": "2023-10-27T07:07:09.637576",
     "exception": false,
     "start_time": "2023-10-27T07:07:09.326369",
     "status": "completed"
    },
    "tags": []
   },
   "outputs": [
    {
     "data": {
      "image/png": "[encoded data removed]",
      "text/plain": [
       "<Figure size 640x480 with 1 Axes>"
      ]
     },
     "metadata": {},
     "output_type": "display_data"
    }
   ],
   "source": [
    "sex_counts = {\n",
    "    \"Male\": np.array([16490,16568,16540]),\n",
    "    \"Female\": np.array([16452,16278,16291])\n",
    "}\n",
    "fig,ax = plt.subplots()\n",
    "bottom = np.zeros(3)\n",
    "for sex, sex_count in sex_counts.items():\n",
    "    p = ax.bar(flight_status,sex_count,label = sex, bottom = bottom)\n",
    "    bottom+=sex_count\n",
    "    ax.bar_label(p, label_type = \"center\")\n",
    "ax.legend()\n",
    "plt.show()"
   ]
  },
  {
   "cell_type": "code",
   "execution_count": 16,
   "id": "118eee57",
   "metadata": {
    "execution": {
     "iopub.execute_input": "2023-10-27T07:07:09.663990Z",
     "iopub.status.busy": "2023-10-27T07:07:09.663563Z",
     "iopub.status.idle": "2023-10-27T07:07:09.889421Z",
     "shell.execute_reply": "2023-10-27T07:07:09.888529Z"
    },
    "papermill": {
     "duration": 0.241886,
     "end_time": "2023-10-27T07:07:09.891674",
     "exception": false,
     "start_time": "2023-10-27T07:07:09.649788",
     "status": "completed"
    },
    "tags": []
   },
   "outputs": [
    {
     "name": "stdout",
     "output_type": "stream",
     "text": [
      "        min      mean  median  max\n",
      "Gender                            \n",
      "Female    1  45.51943    46.0   90\n",
      "Male      1  45.48879    46.0   90\n"
     ]
    },
    {
     "data": {
      "image/png": "[encoded data removed]",
      "text/plain": [
       "<Figure size 640x480 with 1 Axes>"
      ]
     },
     "metadata": {},
     "output_type": "display_data"
    }
   ],
   "source": [
    "print(df.groupby(\"Gender\")[\"Age\"].agg([\"min\", \"mean\",\"median\",\"max\"]))\n",
    "fig,ax= plt.subplots()\n",
    "ax.bar(gender, df.groupby(\"Gender\")[\"Age\"].mean(), color = [ 'tab:green', 'tab:orange' ])\n",
    "plt.show()"
   ]
  },
  {
   "cell_type": "code",
   "execution_count": 17,
   "id": "32dcb6d4",
   "metadata": {
    "execution": {
     "iopub.execute_input": "2023-10-27T07:07:09.920563Z",
     "iopub.status.busy": "2023-10-27T07:07:09.920137Z",
     "iopub.status.idle": "2023-10-27T07:07:11.917678Z",
     "shell.execute_reply": "2023-10-27T07:07:11.916475Z"
    },
    "papermill": {
     "duration": 2.014972,
     "end_time": "2023-10-27T07:07:11.920461",
     "exception": false,
     "start_time": "2023-10-27T07:07:09.905489",
     "status": "completed"
    },
    "tags": []
   },
   "outputs": [
    {
     "data": {
      "image/png": "[encoded data removed]",
      "text/plain": [
       "<Figure size 1600x1000 with 9 Axes>"
      ]
     },
     "metadata": {},
     "output_type": "display_data"
    }
   ],
   "source": [
    "\n",
    "cancelled_dict = df[df[\"Flight_Status\"] == \"Cancelled\"][\"Country_Name\"].value_counts()[0:5].to_dict()\n",
    "ontime_dict = df[df[\"Flight_Status\"] == \"On Time\"][\"Country_Name\"].value_counts()[0:5].to_dict()\n",
    "delayed_dict = df[df[\"Flight_Status\"] == \"Delayed\"][\"Country_Name\"].value_counts()[0:5].to_dict()\n",
    "\n",
    "aa_cancelled_dict = df[df[\"Flight_Status\"] == \"Cancelled\"][\"Arrival_Airport\"].value_counts()[0:5].to_dict()\n",
    "aa_ontime_dict = df[df[\"Flight_Status\"] == \"On Time\"][\"Arrival_Airport\"].value_counts()[0:5].to_dict()\n",
    "aa_delayed_dict = df[df[\"Flight_Status\"] == \"Delayed\"][\"Arrival_Airport\"].value_counts()[0:5].to_dict()\n",
    "\n",
    "con_cancelled_dict = df[df[\"Flight_Status\"] == \"Cancelled\"][\"Continents\"].value_counts().to_dict()\n",
    "con_ontime_dict = df[df[\"Flight_Status\"] == \"On Time\"][\"Continents\"].value_counts().to_dict()\n",
    "con_delayed_dict = df[df[\"Flight_Status\"] == \"Delayed\"][\"Continents\"].value_counts().to_dict()\n",
    "\n",
    "fig, ax = plt.subplots(nrows = 3, ncols = 3, figsize = (16,10))\n",
    "ax[0,0].bar(cancelled_dict.keys(),cancelled_dict.values(), color = 'tab:red')\n",
    "ax[0,0].set_title(\" Country Cancelled\")\n",
    "ax[0,1].bar(ontime_dict.keys(), ontime_dict.values(), color = 'tab:green')\n",
    "ax[0,1].set_title(\"Country On Time\")\n",
    "ax[0,2].bar(delayed_dict.keys(), delayed_dict.values(), color = 'tab:orange')\n",
    "ax[0,2].set_title(\"Country Delayed\")\n",
    "ax[1,0].bar(aa_cancelled_dict.keys(),aa_cancelled_dict.values(), color = 'tab:red')\n",
    "ax[1,0].set_title(\"Arrival Airport Cancelled\")\n",
    "ax[1,1].bar(aa_ontime_dict.keys(), aa_ontime_dict.values(), color = 'tab:green')\n",
    "ax[1,1].set_title(\"Arrival Airport On Time\")\n",
    "ax[1,2].bar(aa_delayed_dict.keys(), aa_delayed_dict.values(), color = 'tab:orange')\n",
    "ax[1,2].set_title(\"Arrival Airport Delayed\")\n",
    "ax[2,0].bar(con_cancelled_dict.keys(),con_cancelled_dict.values(), color = 'tab:red')\n",
    "ax[0,0].set_title(\" Continents Cancelled\")\n",
    "ax[2,1].bar(con_ontime_dict.keys(), con_ontime_dict.values(), color = 'tab:green')\n",
    "ax[2,1].set_title(\"Continents On Time\")\n",
    "ax[2,2].bar(con_delayed_dict.keys(), con_delayed_dict.values(), color = 'tab:orange')\n",
    "ax[2,2].set_title(\"Continents Delayed\")\n",
    "plt.show()"
   ]
  },
  {
   "cell_type": "code",
   "execution_count": 18,
   "id": "29fcbb76",
   "metadata": {
    "execution": {
     "iopub.execute_input": "2023-10-27T07:07:11.950485Z",
     "iopub.status.busy": "2023-10-27T07:07:11.950096Z",
     "iopub.status.idle": "2023-10-27T07:07:12.306817Z",
     "shell.execute_reply": "2023-10-27T07:07:12.305499Z"
    },
    "papermill": {
     "duration": 0.375206,
     "end_time": "2023-10-27T07:07:12.309571",
     "exception": false,
     "start_time": "2023-10-27T07:07:11.934365",
     "status": "completed"
    },
    "tags": []
   },
   "outputs": [
    {
     "data": {
      "image/png": "[encoded data removed]",
      "text/plain": [
       "<Figure size 640x480 with 1 Axes>"
      ]
     },
     "metadata": {},
     "output_type": "display_data"
    }
   ],
   "source": [
    "fig, ax = plt.subplots()\n",
    "national = df.Nationality.value_counts()[:5].index\n",
    "nat_counts = df.Nationality.value_counts()[:5].values\n",
    "ax.bar(national, nat_counts)\n",
    "plt.show()"
   ]
  },
  {
   "cell_type": "code",
   "execution_count": 19,
   "id": "3564cc40",
   "metadata": {
    "execution": {
     "iopub.execute_input": "2023-10-27T07:07:12.340422Z",
     "iopub.status.busy": "2023-10-27T07:07:12.340021Z",
     "iopub.status.idle": "2023-10-27T07:07:13.646967Z",
     "shell.execute_reply": "2023-10-27T07:07:13.645830Z"
    },
    "papermill": {
     "duration": 1.325584,
     "end_time": "2023-10-27T07:07:13.649544",
     "exception": false,
     "start_time": "2023-10-27T07:07:12.323960",
     "status": "completed"
    },
    "tags": []
   },
   "outputs": [
    {
     "data": {
      "image/png": "[encoded data removed]",
      "text/plain": [
       "<Figure size 1600x1000 with 6 Axes>"
      ]
     },
     "metadata": {},
     "output_type": "display_data"
    }
   ],
   "source": [
    "month_cancelled_dict = df[df[\"Flight_Status\"] == \"Cancelled\"][\"Departure_Month\"].value_counts()[0:5].to_dict()\n",
    "month_ontime_dict = df[df[\"Flight_Status\"] == \"On Time\"][\"Departure_Month\"].value_counts()[0:5].to_dict()\n",
    "month_delayed_dict = df[df[\"Flight_Status\"] == \"Delayed\"][\"Departure_Month\"].value_counts()[0:5].to_dict()\n",
    "\n",
    "day_cancelled_dict = df[df[\"Flight_Status\"] == \"Cancelled\"][\"Departure_Day\"].value_counts()[0:5].to_dict()\n",
    "day_ontime_dict = df[df[\"Flight_Status\"] == \"On Time\"][\"Departure_Day\"].value_counts()[0:5].to_dict()\n",
    "day_delayed_dict = df[df[\"Flight_Status\"] == \"Delayed\"][\"Departure_Day\"].value_counts()[0:5].to_dict()\n",
    "\n",
    "fig, ax = plt.subplots(nrows = 2, ncols = 3, figsize = (16,10))\n",
    "ax[0,0].bar(month_cancelled_dict.keys(),month_cancelled_dict.values(), color = 'tab:red')\n",
    "ax[0,0].set_title(\"Departure Month Cancelled\")\n",
    "ax[0,1].bar(month_ontime_dict.keys(), month_ontime_dict.values(), color = 'tab:green')\n",
    "ax[0,1].set_title(\"Departure Month On Time\")\n",
    "ax[0,2].bar(month_delayed_dict.keys(), month_delayed_dict.values(), color = 'tab:orange')\n",
    "ax[0,2].set_title(\"Departure Month Delayed\")\n",
    "ax[1,0].bar(day_cancelled_dict.keys(),day_cancelled_dict.values(), color = 'tab:red')\n",
    "ax[1,0].set_title(\"Departure Day Cancelled\")\n",
    "ax[1,1].bar(day_ontime_dict.keys(), day_ontime_dict.values(), color = 'tab:green')\n",
    "ax[1,1].set_title(\"Departure Day On Time\")\n",
    "ax[1,2].bar(day_delayed_dict.keys(), day_delayed_dict.values(), color = 'tab:orange')\n",
    "ax[1,2].set_title(\"Departure Day Delayed\")\n",
    "plt.show()"
   ]
  },
  {
   "cell_type": "markdown",
   "id": "612ef09f",
   "metadata": {
    "papermill": {
     "duration": 0.015442,
     "end_time": "2023-10-27T07:07:13.680373",
     "exception": false,
     "start_time": "2023-10-27T07:07:13.664931",
     "status": "completed"
    },
    "tags": []
   },
   "source": [
    "<div style=\"border-radius:10px; border:#808080 solid; padding: 15px; background-color: ##F0E68C ; font-size:100%; text-align:left\">\n",
    "\n",
    "<h3 align=\"left\"><font color=blue>Observe</font></h3>\n",
    "\n",
    "* **The frequency of the variables of flight status is almost equal.In addition, the number of men and women in flight status is almost the same, so it can be said that gender is not effective in flight status.**\n",
    "* **As a country, we observed that the US had the highest number of on-time, delayed or canceled flights.As a arrival airport that the 0 had the highest number of on-time, delayed or canceled flights.But zero here means the unknown. And as a continents,that the North America had the highest number of on-time, delayed or canceled flights. Of course, this is due to the fact that the US is the country with the highest number of on-time, delayed and canceled flights.**\n",
    "* **In terms of nationality, Chinese passengers are the most numerous and even account for almost 20 percent of all observations.**\n",
    "* **In terms of departure month, on-time, delayed and canceled flights were most common in months 10, 11 and 12. This shows that most flights took place in these months and that the month has no effect on the flight status. However, it is observed that the departure days are different in three flight cases and it is determined that this situation, that is, the day of departure, has an effect on the flight status.**"
   ]
  }
 ],
 "metadata": {
  "kernelspec": {
   "display_name": "Python 3",
   "language": "python",
   "name": "python3"
  },
  "language_info": {
   "codemirror_mode": {
    "name": "ipython",
    "version": 3
   },
   "file_extension": ".py",
   "mimetype": "text/x-python",
   "name": "python",
   "nbconvert_exporter": "python",
   "pygments_lexer": "ipython3",
   "version": "3.10.12"
  },
  "papermill": {
   "default_parameters": {},
   "duration": 12.301721,
   "end_time": "2023-10-27T07:07:14.217604",
   "environment_variables": {},
   "exception": null,
   "input_path": "__notebook__.ipynb",
   "output_path": "__notebook__.ipynb",
   "parameters": {},
   "start_time": "2023-10-27T07:07:01.915883",
   "version": "2.4.0"
  }
 },
 "nbformat": 4,
 "nbformat_minor": 5
}
